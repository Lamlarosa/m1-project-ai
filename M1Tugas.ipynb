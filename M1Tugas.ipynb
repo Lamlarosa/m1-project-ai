{
  "nbformat": 4,
  "nbformat_minor": 0,
  "metadata": {
    "colab": {
      "provenance": [],
      "authorship_tag": "ABX9TyMaopgkaQlIi3Uhsxt4TDCN",
      "include_colab_link": true
    },
    "kernelspec": {
      "name": "python3",
      "display_name": "Python 3"
    },
    "language_info": {
      "name": "python"
    }
  },
  "cells": [
    {
      "cell_type": "markdown",
      "metadata": {
        "id": "view-in-github",
        "colab_type": "text"
      },
      "source": [
        "<a href=\"https://colab.research.google.com/github/Lamlarosa/m1-project-ai/blob/main/M1Tugas.ipynb\" target=\"_parent\"><img src=\"https://colab.research.google.com/assets/colab-badge.svg\" alt=\"Open In Colab\"/></a>"
      ]
    },
    {
      "cell_type": "code",
      "execution_count": 2,
      "metadata": {
        "colab": {
          "base_uri": "https://localhost:8080/"
        },
        "id": "8w2OaVLKvk-y",
        "outputId": "6660c927-70cd-4318-cf62-3d85901f7d7b"
      },
      "outputs": [
        {
          "output_type": "stream",
          "name": "stdout",
          "text": [
            "Data Dummy Mahasiswa Semester 5:\n",
            "     Nama  Jam_Belajar  Skor_Tugas\n",
            "0    Alam            2          70\n",
            "1   Abram            3          85\n",
            "2  Jordan            1          60\n",
            "3  Firmas            4          90\n",
            "4   Andro            2          75\n",
            "5    Alam            4          80\n",
            "6   Ihsan            5          75\n",
            "\n",
            "Rata-rata jam belajar: 3.00 jam\n",
            "Korelasi antara jam belajar dan skor tugas: 0.66\n"
          ]
        }
      ],
      "source": [
        "import pandas as pd\n",
        "import numpy as np\n",
        "\n",
        "data = {\n",
        "    'Nama': ['Alam', 'Abram', 'Jordan', 'Firmas', 'Andro', 'Alam', 'Ihsan'],\n",
        "    'Jam_Belajar': [2, 3, 1, 4, 2, 4, 5],\n",
        "    'Skor_Tugas': [70, 85, 60, 90, 75, 80, 75]\n",
        "}\n",
        "\n",
        "df = pd.DataFrame(data)\n",
        "print(\"Data Dummy Mahasiswa Semester 5:\")\n",
        "print(df)\n",
        "\n",
        "avg_jam_belajar = df['Jam_Belajar'].mean()\n",
        "print(f\"\\nRata-rata jam belajar: {avg_jam_belajar:.2f} jam\")\n",
        "\n",
        "correlation = df['Jam_Belajar'].corr(df['Skor_Tugas'])\n",
        "print(f\"Korelasi antara jam belajar dan skor tugas: {correlation:.2f}\")\n"
      ]
    }
  ]
}